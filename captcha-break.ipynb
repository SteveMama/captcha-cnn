{
 "cells": [
  {
   "cell_type": "code",
   "execution_count": 1,
   "metadata": {},
   "outputs": [
    {
     "name": "stderr",
     "output_type": "stream",
     "text": [
      "Using TensorFlow backend.\n"
     ]
    }
   ],
   "source": [
    "# https://medium.com/@ageitgey/how-to-break-a-captcha-system-in-15-minutes-with-machine-learning-dbebb035a710\n",
    "import cv2\n",
    "import imutils\n",
    "from imutils import paths\n",
    "import numpy as np\n",
    "import matplotlib.pyplot as plt\n",
    "%matplotlib inline\n",
    "import os\n",
    "import os.path\n",
    "import glob\n",
    "from sklearn.preprocessing import LabelBinarizer\n",
    "from sklearn.model_selection import train_test_split\n",
    "import pickle\n",
    "import tensorflow\n",
    "from keras.models import Sequential\n",
    "from keras.layers.convolutional import Conv2D, MaxPooling2D\n",
    "from keras.layers.core import Flatten, Dense"
   ]
  },
  {
   "cell_type": "code",
   "execution_count": 2,
   "metadata": {},
   "outputs": [],
   "source": [
    "# https://github.com/BenjaminWegener/CaptchaSolver\n",
    "def resize_to_fit(image, width, height):\n",
    "    \"\"\"\n",
    "    A helper function to resize an image to fit within a given size\n",
    "    :param image: image to resize\n",
    "    :param width: desired width in pixels\n",
    "    :param height: desired height in pixels\n",
    "    :return: the resized image\n",
    "    \"\"\"\n",
    "\n",
    "    # grab the dimensions of the image, then initialize\n",
    "    # the padding values\n",
    "    (h, w) = image.shape[:2]\n",
    "\n",
    "    # if the width is greater than the height then resize along\n",
    "    # the width\n",
    "    if w > h:\n",
    "        image = imutils.resize(image, width=width)\n",
    "\n",
    "    # otherwise, the height is greater than the width so resize\n",
    "    # along the height\n",
    "    else:\n",
    "        image = imutils.resize(image, height=height)\n",
    "\n",
    "    # determine the padding values for the width and height to\n",
    "    # obtain the target dimensions\n",
    "    padW = int((width - image.shape[1]) / 2.0)\n",
    "    padH = int((height - image.shape[0]) / 2.0)\n",
    "\n",
    "    # pad the image then apply one more resizing to handle any\n",
    "    # rounding issues\n",
    "    image = cv2.copyMakeBorder(image, padH, padH, padW, padW,\n",
    "        cv2.BORDER_REPLICATE)\n",
    "    image = cv2.resize(image, (width, height))\n",
    "\n",
    "    # return the pre-processed image\n",
    "    return image"
   ]
  },
  {
   "cell_type": "markdown",
   "metadata": {},
   "source": [
    "# Processamento do captcha"
   ]
  },
  {
   "cell_type": "markdown",
   "metadata": {},
   "source": [
    "## Qualidade da imagem"
   ]
  },
  {
   "cell_type": "code",
   "execution_count": 3,
   "metadata": {},
   "outputs": [],
   "source": [
    "def processImage(img):    \n",
    "    imgBorder = cv2.copyMakeBorder(img, 8, 8, 8, 8, cv2.BORDER_REPLICATE)\n",
    "\n",
    "    ret, imgThreshold = cv2.threshold(imgBorder, 127, 255, cv2.THRESH_BINARY)\n",
    "\n",
    "#     plt.imshow(imgThreshold, cmap='gray')\n",
    "#     plt.axis('off')\n",
    "#     plt.show()\n",
    "    \n",
    "    kernel = np.ones((1,2), np.uint8)\n",
    "    imgErode = cv2.erode(imgThreshold, kernel, iterations = 1)\n",
    "\n",
    "#     plt.imshow(imgErode, cmap='gray')\n",
    "#     plt.axis('off')\n",
    "#     plt.show()\n",
    "    \n",
    "    return imgErode\n"
   ]
  },
  {
   "cell_type": "code",
   "execution_count": 30,
   "metadata": {},
   "outputs": [],
   "source": [
    "img = cv2.imread(\"tests/01.png\", 0)\n",
    "\n",
    "imgErode = processImage(img)"
   ]
  },
  {
   "cell_type": "markdown",
   "metadata": {},
   "source": [
    "## Encontrando letras"
   ]
  },
  {
   "cell_type": "code",
   "execution_count": 5,
   "metadata": {},
   "outputs": [],
   "source": [
    "def findLetters(imgErode):\n",
    "    contours = cv2.findContours(imgErode, cv2.RETR_LIST, cv2.CHAIN_APPROX_SIMPLE)\n",
    "\n",
    "    contours = contours[0]\n",
    "    imageRegions = []\n",
    "    areaArr = []\n",
    "\n",
    "    for contour in contours:\n",
    "        area = cv2.contourArea(contour)\n",
    "        areaArr.append(area)\n",
    "    \n",
    "    # encontrando mediana para descartar áreas fora do padrão\n",
    "    median = 0\n",
    "    areaArr.sort()\n",
    "    if len(areaArr)%2 != 0:\n",
    "        mid = int(len(areaArr)/2)\n",
    "        median = areaArr[mid]\n",
    "    else:\n",
    "        mid = int(len(areaArr)/2)\n",
    "        median = (areaArr[mid] + areaArr[mid - 1])/2\n",
    "    \n",
    "    for contour in contours:\n",
    "        area = cv2.contourArea(contour)\n",
    "        if area > 3*median or area < median/3:\n",
    "            continue;\n",
    "\n",
    "        x, y, w, h = cv2.boundingRect(contour)\n",
    "        imgRGB = cv2.cvtColor(imgErode,cv2.COLOR_GRAY2RGB)\n",
    "    \n",
    "        # se duas letras estiverem juntas\n",
    "        if w/h > 1.25:\n",
    "            half_width = int(w/2)\n",
    "            imageRegions.append((x, y, half_width, h))\n",
    "            imageRegions.append((x + half_width, y, half_width, h))\n",
    "        else:\n",
    "            imageRegions.append((x, y, w, h))\n",
    "    \n",
    "    imageRegions = sorted(imageRegions, key=lambda x: x[0])\n",
    "    \n",
    "    return imageRegions\n"
   ]
  },
  {
   "cell_type": "code",
   "execution_count": 6,
   "metadata": {},
   "outputs": [],
   "source": [
    "def printRegions(imageRegions):\n",
    "    for point in imageRegions:    \n",
    "        imgRGB = cv2.cvtColor(imgErode, cv2.COLOR_GRAY2RGB)\n",
    "        imgRect = cv2.rectangle(imgRGB, (point[0], point[1]), (point[0]+point[2], point[1]+point[3]), (255,0,0), 1)\n",
    "\n",
    "        plt.imshow(imgRect)\n",
    "        plt.axis('off')\n",
    "        plt.show()"
   ]
  },
  {
   "cell_type": "code",
   "execution_count": 7,
   "metadata": {},
   "outputs": [
    {
     "data": {
      "image/png": "[encoded data removed]",
      "text/plain": [
       "<Figure size 432x288 with 1 Axes>"
      ]
     },
     "metadata": {
      "needs_background": "light"
     },
     "output_type": "display_data"
    },
    {
     "data": {
      "image/png": "[encoded data removed]",
      "text/plain": [
       "<Figure size 432x288 with 1 Axes>"
      ]
     },
     "metadata": {
      "needs_background": "light"
     },
     "output_type": "display_data"
    },
    {
     "data": {
      "image/png": "[encoded data removed]",
      "text/plain": [
       "<Figure size 432x288 with 1 Axes>"
      ]
     },
     "metadata": {
      "needs_background": "light"
     },
     "output_type": "display_data"
    },
    {
     "data": {
      "image/png": "[encoded data removed]",
      "text/plain": [
       "<Figure size 432x288 with 1 Axes>"
      ]
     },
     "metadata": {
      "needs_background": "light"
     },
     "output_type": "display_data"
    }
   ],
   "source": [
    "imageRegions = findLetters(imgErode)\n",
    "printRegions(imageRegions)"
   ]
  },
  {
   "cell_type": "markdown",
   "metadata": {},
   "source": [
    "## Rodando processamento nos dados"
   ]
  },
  {
   "cell_type": "code",
   "execution_count": 8,
   "metadata": {},
   "outputs": [
    {
     "name": "stdout",
     "output_type": "stream",
     "text": [
      "finish processing\n"
     ]
    }
   ],
   "source": [
    "FOLDER_INPUT = \"data\"\n",
    "FOLDER_OUTPUT = \"data_letters\"\n",
    "captchaImgs = glob.glob(os.path.join(FOLDER_INPUT, \"*\"))\n",
    "countLetter = [0, 0, 0, 0, 0, 0, 0, 0, 0, 0, 0, 0, 0, 0, 0, 0, 0, 0, 0, 0, 0, 0, 0, 0, 0, 0]\n",
    "countNumber = [0, 0, 0, 0, 0, 0, 0, 0, 0, 0]\n",
    "\n",
    "for i, file in enumerate(captchaImgs):\n",
    "    name = os.path.basename(file)\n",
    "    captchaText = os.path.splitext(name)[0] # pegando só texto (sem \".png\")\n",
    "    pathImg = \"data/\" + name\n",
    "#    print(\"Processando\", i, \"de\", len(captchaImgs), \"-\", pathImg)\n",
    "    \n",
    "    img = cv2.imread(pathImg, 0)\n",
    "#     plt.imshow(img, cmap='gray')\n",
    "#     plt.axis('off')\n",
    "#     plt.show()\n",
    "    \n",
    "    imgErode = processImage(img)\n",
    "    \n",
    "    imageRegions = findLetters(imgErode)\n",
    "#     printRegions(imageRegions)\n",
    "    if len(imageRegions) != 4:\n",
    "        continue;\n",
    "        \n",
    "    for points, letter in zip(imageRegions, captchaText):\n",
    "        x, y, w, h = points\n",
    "        \n",
    "        imageSave = imgErode[y:y + h, x:x + w]\n",
    "        \n",
    "#         plt.imshow(imageSave)\n",
    "#         plt.axis('off')\n",
    "#         plt.show()\n",
    "        \n",
    "        pathSave = os.path.join(FOLDER_OUTPUT, letter)\n",
    "    \n",
    "        if not os.path.exists(pathSave):\n",
    "            os.makedirs(pathSave)\n",
    "        \n",
    "        ans = ord(letter)\n",
    "\n",
    "        if ans >= 0 and ans < ord('A'):\n",
    "            idx = ans - ord('0')\n",
    "            countNumber[idx] = countNumber[idx] + 1\n",
    "            strImgPath = str(countNumber[idx]) + \".png\"\n",
    "        else:\n",
    "            idx = ans - ord('A')\n",
    "            countLetter[idx] = countLetter[idx] + 1\n",
    "            strImgPath = str(countLetter[idx]) + \".png\"\n",
    "        \n",
    "#         print(strImgPath)\n",
    "        pt = os.path.join(pathSave, strImgPath)\n",
    "        cv2.imwrite(pt, imageSave)\n",
    "\n",
    "print(\"finish processing\")"
   ]
  },
  {
   "cell_type": "markdown",
   "metadata": {},
   "source": [
    "# Machine Learning"
   ]
  },
  {
   "cell_type": "markdown",
   "metadata": {},
   "source": [
    "## Treinando modelo"
   ]
  },
  {
   "cell_type": "code",
   "execution_count": 9,
   "metadata": {},
   "outputs": [
    {
     "name": "stdout",
     "output_type": "stream",
     "text": [
      "finish append\n"
     ]
    }
   ],
   "source": [
    "FOLDER_LETTERS_INPUT = \"data_letters\"\n",
    "\n",
    "dataImages = []\n",
    "dataLabels = []\n",
    "\n",
    "for file in paths.list_images(FOLDER_LETTERS_INPUT):\n",
    "    image = cv2.imread(file, 0)\n",
    "    image = resize_to_fit(image, 20, 20)\n",
    "    image = np.expand_dims(image, axis=2)\n",
    "\n",
    "    label = file.split(os.path.sep)[-2]\n",
    "    \n",
    "#    print(\"append data...\")\n",
    "    dataImages.append(image)\n",
    "    dataLabels.append(label)\n",
    "\n",
    "print(\"finish append\")\n"
   ]
  },
  {
   "cell_type": "code",
   "execution_count": 10,
   "metadata": {},
   "outputs": [
    {
     "name": "stdout",
     "output_type": "stream",
     "text": [
      "34832\n",
      "34832\n"
     ]
    }
   ],
   "source": [
    "print(len(dataImages))\n",
    "print(len(dataLabels))"
   ]
  },
  {
   "cell_type": "code",
   "execution_count": 11,
   "metadata": {},
   "outputs": [],
   "source": [
    "FILE_LABELS_MODEL = \"label_model.dat\"\n",
    "\n",
    "dataImages = np.array(dataImages)/255\n",
    "dataLabels = np.array(dataLabels)\n",
    "\n",
    "encoder = LabelBinarizer()\n",
    "dataLabels = encoder.fit_transform(dataLabels)\n",
    "\n",
    "(Xtrain, Xtest, Ytrain, Ytest) = train_test_split(dataImages, dataLabels, test_size=0.25, random_state=70)\n",
    "\n",
    "with open(FILE_LABELS_MODEL, \"wb\") as f:\n",
    "    pickle.dump(encoder, f)\n"
   ]
  },
  {
   "cell_type": "code",
   "execution_count": 12,
   "metadata": {},
   "outputs": [
    {
     "name": "stdout",
     "output_type": "stream",
     "text": [
      "WARNING:tensorflow:From /Users/izabellamelo/miniconda3/lib/python3.7/site-packages/tensorflow/python/framework/op_def_library.py:263: colocate_with (from tensorflow.python.framework.ops) is deprecated and will be removed in a future version.\n",
      "Instructions for updating:\n",
      "Colocations handled automatically by placer.\n",
      "_________________________________________________________________\n",
      "Layer (type)                 Output Shape              Param #   \n",
      "=================================================================\n",
      "conv2d_1 (Conv2D)            (None, 20, 20, 20)        100       \n",
      "_________________________________________________________________\n",
      "max_pooling2d_1 (MaxPooling2 (None, 10, 10, 20)        0         \n",
      "_________________________________________________________________\n",
      "conv2d_2 (Conv2D)            (None, 10, 10, 64)        5184      \n",
      "_________________________________________________________________\n",
      "max_pooling2d_2 (MaxPooling2 (None, 5, 5, 64)          0         \n",
      "_________________________________________________________________\n",
      "conv2d_3 (Conv2D)            (None, 5, 5, 128)         32896     \n",
      "_________________________________________________________________\n",
      "max_pooling2d_3 (MaxPooling2 (None, 2, 2, 128)         0         \n",
      "_________________________________________________________________\n",
      "conv2d_4 (Conv2D)            (None, 2, 2, 256)         131328    \n",
      "_________________________________________________________________\n",
      "max_pooling2d_4 (MaxPooling2 (None, 1, 1, 256)         0         \n",
      "_________________________________________________________________\n",
      "flatten_1 (Flatten)          (None, 256)               0         \n",
      "_________________________________________________________________\n",
      "dense_1 (Dense)              (None, 500)               128500    \n",
      "_________________________________________________________________\n",
      "dense_2 (Dense)              (None, 32)                16032     \n",
      "=================================================================\n",
      "Total params: 314,040\n",
      "Trainable params: 314,040\n",
      "Non-trainable params: 0\n",
      "_________________________________________________________________\n"
     ]
    }
   ],
   "source": [
    "MODEL_FILE = \"model.hdf5\"\n",
    "\n",
    "model = Sequential()\n",
    "\n",
    "model.add(Conv2D(20, (2, 2), padding=\"same\", input_shape=(20, 20, 1), activation=\"relu\"))\n",
    "model.add(MaxPooling2D(pool_size=(2, 2), strides=(2, 2)))\n",
    "\n",
    "model.add(Conv2D(64, (2, 2), padding=\"same\", activation=\"relu\"))\n",
    "model.add(MaxPooling2D(pool_size=(2, 2), strides=(2, 2)))\n",
    "\n",
    "model.add(Conv2D(128, (2, 2), padding=\"same\", activation=\"relu\"))\n",
    "model.add(MaxPooling2D(pool_size=(2, 2), strides=(2, 2)))\n",
    "\n",
    "model.add(Conv2D(256, (2, 2), padding=\"same\", activation=\"relu\"))\n",
    "model.add(MaxPooling2D(pool_size=(2, 2), strides=(2, 2)))\n",
    "\n",
    "model.add(Flatten())\n",
    "model.add(Dense(500, activation=\"relu\"))\n",
    "\n",
    "model.add(Dense(32, activation=\"softmax\"))\n",
    "\n",
    "model.compile(loss=\"categorical_crossentropy\", optimizer=\"adagrad\", metrics=[\"accuracy\"])\n",
    "\n",
    "model.summary()"
   ]
  },
  {
   "cell_type": "code",
   "execution_count": 13,
   "metadata": {},
   "outputs": [
    {
     "name": "stdout",
     "output_type": "stream",
     "text": [
      "WARNING:tensorflow:From /Users/izabellamelo/miniconda3/lib/python3.7/site-packages/tensorflow/python/ops/math_ops.py:3066: to_int32 (from tensorflow.python.ops.math_ops) is deprecated and will be removed in a future version.\n",
      "Instructions for updating:\n",
      "Use tf.cast instead.\n",
      "Train on 26124 samples, validate on 8708 samples\n",
      "Epoch 1/10\n",
      "26124/26124 [==============================] - 10s 387us/step - loss: 0.4556 - acc: 0.8725 - val_loss: 0.0642 - val_acc: 0.9892\n",
      "Epoch 2/10\n",
      "26124/26124 [==============================] - 10s 367us/step - loss: 0.0478 - acc: 0.9909 - val_loss: 0.0412 - val_acc: 0.9929\n",
      "Epoch 3/10\n",
      "26124/26124 [==============================] - 9s 341us/step - loss: 0.0312 - acc: 0.9938 - val_loss: 0.0357 - val_acc: 0.9939\n",
      "Epoch 4/10\n",
      "26124/26124 [==============================] - 9s 346us/step - loss: 0.0234 - acc: 0.9954 - val_loss: 0.0308 - val_acc: 0.9947\n",
      "Epoch 5/10\n",
      "26124/26124 [==============================] - 9s 345us/step - loss: 0.0182 - acc: 0.9966 - val_loss: 0.0298 - val_acc: 0.9948\n",
      "Epoch 6/10\n",
      "26124/26124 [==============================] - 10s 370us/step - loss: 0.0149 - acc: 0.9971 - val_loss: 0.0296 - val_acc: 0.9952\n",
      "Epoch 7/10\n",
      "26124/26124 [==============================] - 9s 352us/step - loss: 0.0132 - acc: 0.9974 - val_loss: 0.0289 - val_acc: 0.9951\n",
      "Epoch 8/10\n",
      "26124/26124 [==============================] - 10s 364us/step - loss: 0.0109 - acc: 0.9979 - val_loss: 0.0281 - val_acc: 0.9953\n",
      "Epoch 9/10\n",
      "26124/26124 [==============================] - 9s 335us/step - loss: 0.0095 - acc: 0.9984 - val_loss: 0.0283 - val_acc: 0.9954\n",
      "Epoch 10/10\n",
      "26124/26124 [==============================] - 9s 328us/step - loss: 0.0085 - acc: 0.9989 - val_loss: 0.0285 - val_acc: 0.9954\n"
     ]
    }
   ],
   "source": [
    "model.fit(Xtrain, Ytrain, validation_data=(Xtest, Ytest), batch_size=32, epochs=10, verbose=1)\n",
    "model.save(MODEL_FILE)"
   ]
  },
  {
   "cell_type": "markdown",
   "metadata": {},
   "source": [
    "### Testando com captcha"
   ]
  },
  {
   "cell_type": "code",
   "execution_count": 24,
   "metadata": {},
   "outputs": [],
   "source": [
    "def predictImage(img):\n",
    "    dataImagesPredict = []\n",
    "\n",
    "    imgErode = processImage(img)\n",
    "    imageRegions = findLetters(imgErode)\n",
    "\n",
    "    for points in imageRegions:\n",
    "        x, y, w, h = points\n",
    "\n",
    "        image = imgErode[y:y + h, x:x + w]\n",
    "\n",
    "        image = resize_to_fit(image, 20, 20)\n",
    "        image = np.expand_dims(image, axis=2)\n",
    "\n",
    "        dataImagesPredict.append(image)\n",
    "\n",
    "    dataImagesPredict = np.array(dataImagesPredict)/255\n",
    "\n",
    "    for element in dataImagesPredict:\n",
    "        prediction = model.predict(dataImagesPredict)\n",
    "        letter = encoder.inverse_transform(prediction)\n",
    "\n",
    "    print(\"CAPTCHA TEXT:\", letter)\n",
    "    plt.imshow(imgErode, cmap='gray')\n",
    "    plt.axis('off')\n",
    "    plt.show()\n"
   ]
  },
  {
   "cell_type": "code",
   "execution_count": 31,
   "metadata": {},
   "outputs": [
    {
     "name": "stdout",
     "output_type": "stream",
     "text": [
      "CAPTCHA TEXT: ['Z' 'W' 'B' 'J']\n"
     ]
    },
    {
     "data": {
      "image/png": "[encoded data removed]",
      "text/plain": [
       "<Figure size 432x288 with 1 Axes>"
      ]
     },
     "metadata": {
      "needs_background": "light"
     },
     "output_type": "display_data"
    },
    {
     "name": "stdout",
     "output_type": "stream",
     "text": [
      "CAPTCHA TEXT: ['C' 'G' 'L' 'T']\n"
     ]
    },
    {
     "data": {
      "image/png": "[encoded data removed]",
      "text/plain": [
       "<Figure size 432x288 with 1 Axes>"
      ]
     },
     "metadata": {
      "needs_background": "light"
     },
     "output_type": "display_data"
    }
   ],
   "source": [
    "img = cv2.imread(\"tests/01.png\", 0)\n",
    "predictImage(img)\n",
    "\n",
    "img = cv2.imread(\"tests/02.png\", 0)\n",
    "predictImage(img)"
   ]
  },
  {
   "cell_type": "code",
   "execution_count": null,
   "metadata": {},
   "outputs": [],
   "source": []
  }
 ],
 "metadata": {
  "kernelspec": {
   "display_name": "Python 3",
   "language": "python",
   "name": "python3"
  },
  "language_info": {
   "codemirror_mode": {
    "name": "ipython",
    "version": 3
   },
   "file_extension": ".py",
   "mimetype": "text/x-python",
   "name": "python",
   "nbconvert_exporter": "python",
   "pygments_lexer": "ipython3",
   "version": "3.7.1"
  }
 },
 "nbformat": 4,
 "nbformat_minor": 2
}
